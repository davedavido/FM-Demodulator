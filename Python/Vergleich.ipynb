{
 "cells": [
  {
   "cell_type": "code",
   "execution_count": 97,
   "metadata": {},
   "outputs": [],
   "source": [
    "import numpy as np \n",
    "import matplotlib.pyplot as plt\n",
    "\n",
    "data_verilog1 = np.int16(np.loadtxt('/Users/Davidlohner/Documents/FM-Demodulator/UART/output_data_1.15.txt'))\n",
    "data_verilog2 = np.int16(np.loadtxt('/Users/Davidlohner/Documents/FM-Demodulator/UART/output_data_0.16.txt'))\n",
    "data_verilog3 = np.int16(np.loadtxt('/Users/Davidlohner/Documents/FM-Demodulator/UART/output_data_0.17.txt'))\n",
    "data_python = np.int16(np.loadtxt('/Users/Davidlohner/Documents/FM-Demodulator/Python/demod_avg_filtered_wo.txt'))"
   ]
  },
  {
   "cell_type": "code",
   "execution_count": 94,
   "metadata": {},
   "outputs": [],
   "source": [
    "def count_absolute_ones(arr):\n",
    "    count = 0\n",
    "    for value in arr:\n",
    "        if abs(value) == 1:\n",
    "            count += 1\n",
    "    return count"
   ]
  },
  {
   "cell_type": "code",
   "execution_count": 98,
   "metadata": {},
   "outputs": [
    {
     "name": "stdout",
     "output_type": "stream",
     "text": [
      "Anzahl falscher Samples 73200\n",
      "Prozentual: 14.640175682108186 %\n",
      "Abweichung in Prozent:  0.02598752598752599 %\n"
     ]
    }
   ],
   "source": [
    "#Count Number Wrong Samples 1.15\n",
    "diff1 = data_verilog1 - data_python[:len(data_verilog1)]\n",
    "N_wrong = count_absolute_ones(diff1)\n",
    "print('Anzahl falscher Samples', N_wrong)\n",
    "print('Prozentual:', N_wrong*100/len(diff1),'%')\n",
    "print('Abweichung in Prozent: ', 1*100/data_verilog1.max(), '%')\n"
   ]
  },
  {
   "cell_type": "code",
   "execution_count": 99,
   "metadata": {},
   "outputs": [
    {
     "name": "stdout",
     "output_type": "stream",
     "text": [
      "Anzahl falscher Samples 7624\n",
      "Prozentual: 1.524818297819574 %\n",
      "Abweichung in Prozent:  0.025980774227071967 %\n"
     ]
    }
   ],
   "source": [
    "#Count Number Wrong Samples 0.16\n",
    "diff2 = data_verilog2 - data_python[:len(data_verilog2)]\n",
    "N_wrong = count_absolute_ones(diff2)\n",
    "print('Anzahl falscher Samples', N_wrong)\n",
    "print('Prozentual:', N_wrong*100/len(diff2),'%')\n",
    "print('Abweichung in Prozent: ', 1*100/data_verilog2.max(), '%')"
   ]
  },
  {
   "cell_type": "code",
   "execution_count": 101,
   "metadata": {},
   "outputs": [
    {
     "name": "stdout",
     "output_type": "stream",
     "text": [
      "Anzahl falscher Samples 22221\n",
      "Prozentual: 4.444253331039972 %\n",
      "Abweichung in Prozent:  0.025980774227071967 %\n"
     ]
    },
    {
     "data": {
      "image/png": "[encoded data removed]",
      "text/plain": [
       "<Figure size 640x480 with 1 Axes>"
      ]
     },
     "metadata": {},
     "output_type": "display_data"
    }
   ],
   "source": [
    "#Count Number Wrong Samples 0.17\n",
    "diff3 = data_verilog3 - data_python[:len(data_verilog3)]\n",
    "plt.plot(diff3)\n",
    "N_wrong = count_absolute_ones(diff3)\n",
    "print('Anzahl falscher Samples', N_wrong)\n",
    "print('Prozentual:', N_wrong*100/len(diff3),'%')\n",
    "print('Abweichung in Prozent: ', 1*100/data_verilog3.max(), '%')"
   ]
  }
 ],
 "metadata": {
  "kernelspec": {
   "display_name": "base",
   "language": "python",
   "name": "python3"
  },
  "language_info": {
   "codemirror_mode": {
    "name": "ipython",
    "version": 3
   },
   "file_extension": ".py",
   "mimetype": "text/x-python",
   "name": "python",
   "nbconvert_exporter": "python",
   "pygments_lexer": "ipython3",
   "version": "3.8.8"
  },
  "orig_nbformat": 4
 },
 "nbformat": 4,
 "nbformat_minor": 2
}
