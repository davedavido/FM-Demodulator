{
 "cells": [
  {
   "cell_type": "code",
   "execution_count": 3,
   "metadata": {},
   "outputs": [],
   "source": [
    "#LP Filter FM Signal\n",
    "\n",
    "from scipy.signal import butter, lfilter\n",
    "from scipy.signal import freqs, decimate\n",
    "\n",
    "def butter_lowpass(cutOff, fs, order=5):\n",
    "    nyq = 0.5 * fs\n",
    "    normalCutoff = cutOff / nyq\n",
    "    b, a = butter(order, normalCutoff, btype='low', analog = True)\n",
    "    return b, a\n",
    "\n",
    "def butter_lowpass_filter(data, cutOff, fs, order=4):\n",
    "    b, a = butter_lowpass(cutOff, fs, order=order)\n",
    "    print(b,a)\n",
    "    y = lfilter(b, a, data)\n",
    "    return y"
   ]
  },
  {
   "cell_type": "code",
   "execution_count": 4,
   "metadata": {},
   "outputs": [],
   "source": [
    "import numpy as np\n",
    "import matplotlib.pyplot as plt \n",
    "\n",
    "fs = 200000\n",
    "#load data \n",
    "\n",
    "fm_real = np.genfromtxt('fm_signal_real_fs_200kHz.dat')\n",
    "\n",
    "fm_imag = np.genfromtxt('fm_signal_imag_fs_200kHz.dat')\n",
    "\n",
    "\n",
    "fm_complex = fm_real + 1j * fm_imag"
   ]
  },
  {
   "cell_type": "code",
   "execution_count": 5,
   "metadata": {},
   "outputs": [
    {
     "data": {
      "text/plain": [
       "(-0.1, 0.1)"
      ]
     },
     "execution_count": 5,
     "metadata": {},
     "output_type": "execute_result"
    },
    {
     "data": {
      "image/png": "[encoded data removed]",
      "text/plain": [
       "<Figure size 432x288 with 1 Axes>"
      ]
     },
     "metadata": {
      "needs_background": "light"
     },
     "output_type": "display_data"
    }
   ],
   "source": [
    "#Spektrale Analyse\n",
    "\n",
    "from numpy.fft import fft, fftshift\n",
    "\n",
    "fm_spec = fft(fm_complex)\n",
    "\n",
    "delta_f = fs/len(fm_spec)\n",
    "t = np.arange(len(fm_complex))\n",
    "freq = np.fft.fftfreq(t.shape[-1])\n",
    "\n",
    "f_o = freq[np.argmax(20*np.log10(abs(fm_spec)))]*fs\n",
    "\n",
    "plt.plot(freq, 20*np.log10(abs(fm_spec)))\n",
    "plt.xlim(-0.1,0.1)\n",
    "\n"
   ]
  },
  {
   "cell_type": "code",
   "execution_count": 6,
   "metadata": {},
   "outputs": [],
   "source": [
    "#Demodulation\n",
    "\n",
    "signal = np.zeros(len(fm_complex))\n",
    "last_in = 0 + 1j * 0\n",
    "for i in range(len(fm_complex)-1):\n",
    "    signal[i] = np.imag(fm_complex[i]*last_in.conjugate())\n",
    "    last_in = fm_complex[i]\n"
   ]
  },
  {
   "cell_type": "code",
   "execution_count": 7,
   "metadata": {},
   "outputs": [],
   "source": [
    "# Offset beseitigen\n",
    "\n",
    "signal_no_offset = (signal - 2*np.pi * f_o * 1/fs)"
   ]
  },
  {
   "cell_type": "code",
   "execution_count": 8,
   "metadata": {},
   "outputs": [],
   "source": [
    "#Filter LP\n",
    "#y = butter_lowpass_filter(signal_no_offset, 20000, fs=fs, order = 5)"
   ]
  },
  {
   "cell_type": "code",
   "execution_count": 9,
   "metadata": {},
   "outputs": [],
   "source": [
    "#Save Audio\n",
    "import scipy.io.wavfile as wav\n",
    "\n",
    "wav.write('Signal_no_filter.wav', 200000, signal_no_offset/signal_no_offset.max())"
   ]
  },
  {
   "cell_type": "code",
   "execution_count": null,
   "metadata": {},
   "outputs": [],
   "source": []
  }
 ],
 "metadata": {
  "kernelspec": {
   "display_name": "base",
   "language": "python",
   "name": "python3"
  },
  "language_info": {
   "codemirror_mode": {
    "name": "ipython",
    "version": 3
   },
   "file_extension": ".py",
   "mimetype": "text/x-python",
   "name": "python",
   "nbconvert_exporter": "python",
   "pygments_lexer": "ipython3",
   "version": "3.8.8"
  },
  "orig_nbformat": 4,
  "vscode": {
   "interpreter": {
    "hash": "957312adc3c07f920a3224b8e45beb50904615cfa4462f95924a6b65d1cf9857"
   }
  }
 },
 "nbformat": 4,
 "nbformat_minor": 2
}
